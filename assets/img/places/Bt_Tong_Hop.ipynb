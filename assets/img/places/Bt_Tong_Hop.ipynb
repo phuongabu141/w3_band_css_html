{
 "cells": [
  {
   "cell_type": "code",
   "execution_count": 325,
   "id": "fa83e29a",
   "metadata": {},
   "outputs": [
    {
     "name": "stdout",
     "output_type": "stream",
     "text": [
      "Nhập số lượng vé bạn mua: \n",
      "1000\n",
      "Số tiền quý khách chi là: 10000000\n"
     ]
    }
   ],
   "source": [
    "#Nhập số vé người chơi mua\n",
    "print(\"Nhập số lượng vé bạn mua: \")\n",
    "n=int(input())\n",
    "tien_chi=n*10000\n",
    "print(\"Số tiền quý khách chi là: \" +str(tien_chi))"
   ]
  },
  {
   "cell_type": "code",
   "execution_count": 326,
   "id": "88525dd9",
   "metadata": {},
   "outputs": [],
   "source": [
    "# list n vé của người chơi nhận được\n",
    "A=[]\n",
    "for j in range(n):\n",
    "    arr_n=tuple(random.sample(range(1,45), 6))\n",
    "    A.append(arr_n)\n"
   ]
  },
  {
   "cell_type": "code",
   "execution_count": 327,
   "id": "765a6bd9",
   "metadata": {},
   "outputs": [
    {
     "name": "stdout",
     "output_type": "stream",
     "text": [
      "Day so trung la (22, 10, 30, 26, 8, 6)\n",
      "Số tiền quý khách trúng thưởng là: 1350000\n",
      "Số tiền quý khách lỗ là: -8650000\n"
     ]
    }
   ],
   "source": [
    "# Máy xổ số\n",
    "win_vietplot = tuple(random.sample(range(1,46), 6))\n",
    "print(\"Day so trung la \" + str(win_vietplot))\n",
    "tien_thu = 0\n",
    "for i in range(n):\n",
    "    index=0\n",
    "    for j in range(6):\n",
    "        if A[i][j] in win_vietplot:\n",
    "            index +=1\n",
    "    if index==3:\n",
    "        tien_thu +=30000\n",
    "    elif index==4:\n",
    "        tien_thu+=300000\n",
    "    elif index==5:\n",
    "        tien_thu+=10000000000\n",
    "print(\"Số tiền quý khách trúng thưởng là: \" + str(tien_thu))\n",
    "tien_loi=tien_thu-tien_chi\n",
    "if(tien_loi>0):\n",
    "    print(\"Số tiền quý khách lãi là: \" + str(tien_loi))\n",
    "else: \n",
    "    print(\"Số tiền quý khách lỗ là: \" + str(tien_loi))\n",
    "\n"
   ]
  },
  {
   "cell_type": "code",
   "execution_count": 249,
   "id": "300646c4",
   "metadata": {},
   "outputs": [
    {
     "name": "stdout",
     "output_type": "stream",
     "text": [
      "[8, 34, 18, 17, 32, 13]\n"
     ]
    }
   ],
   "source": [
    "print(arr_n)"
   ]
  }
 ],
 "metadata": {
  "kernelspec": {
   "display_name": "Python 3",
   "language": "python",
   "name": "python3"
  },
  "language_info": {
   "codemirror_mode": {
    "name": "ipython",
    "version": 3
   },
   "file_extension": ".py",
   "mimetype": "text/x-python",
   "name": "python",
   "nbconvert_exporter": "python",
   "pygments_lexer": "ipython3",
   "version": "3.8.8"
  }
 },
 "nbformat": 4,
 "nbformat_minor": 5
}
